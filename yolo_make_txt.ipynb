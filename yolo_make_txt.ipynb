{
 "cells": [
  {
   "cell_type": "code",
   "execution_count": 3,
   "metadata": {},
   "outputs": [],
   "source": [
    "from scipy import io\n",
    "import cv2"
   ]
  },
  {
   "cell_type": "code",
   "execution_count": 63,
   "metadata": {},
   "outputs": [],
   "source": [
    "import os\n",
    "file_list_label = os.listdir('data/PRW-v16.04.20/PRW-v16.04.20/annotations')\n",
    "file_list_frame = os.listdir('data/PRW-v16.04.20/PRW-v16.04.20/frames')"
   ]
  },
  {
   "cell_type": "code",
   "execution_count": 104,
   "metadata": {},
   "outputs": [],
   "source": [
    "for i, mat in enumerate(file_list_label) :\n",
    "    mat_file = io.loadmat('data/PRW-v16.04.20/PRW-v16.04.20/annotations/' + mat)\n",
    "    image = cv2.imread('data/PRW-v16.04.20/PRW-v16.04.20/frames/' + file_list_frame[i])\n",
    "    \n",
    "    if mat[:-4] != file_list_frame[i] :\n",
    "        print('error')\n",
    "        break\n",
    "        \n",
    "    height, width, channels = image.shape\n",
    "    \n",
    "    f = open('data/PRW-v16.04.20/PRW-v16.04.20/framesd/' + mat[:-7]+'txt', 'w')\n",
    "    try : \n",
    "        tt = mat_file['box_new']\n",
    "    except KeyError :\n",
    "        try :\n",
    "            tt = mat_file['anno_file']\n",
    "        except KeyError :\n",
    "            tt = mat_file['anno_previous']\n",
    "    for person_box in tt :\n",
    "\n",
    "        x, y, w, h = person_box[1], person_box[2], person_box[3], person_box[4]\n",
    "        x_c = (x + (w / 2)) / width\n",
    "        y_c = (y + (h / 2)) / height\n",
    "        w = w / width\n",
    "        h = h / height\n",
    "\n",
    "        r = str(0) + ' ' + str(round(x_c,6)) + ' ' + str(round(y_c,6)) + ' ' + str(round(w,6)) + ' ' + str(round(h,6)) + '\\n'\n",
    "        f.write(r)\n",
    "       \n",
    "    f.close()"
   ]
  },
  {
   "cell_type": "code",
   "execution_count": 4,
   "metadata": {},
   "outputs": [],
   "source": [
    "mat_file = io.loadmat('data/PRW-v16.04.20/PRW-v16.04.20/frame_train.mat')"
   ]
  },
  {
   "cell_type": "code",
   "execution_count": null,
   "metadata": {},
   "outputs": [],
   "source": []
  },
  {
   "cell_type": "code",
   "execution_count": 13,
   "metadata": {},
   "outputs": [],
   "source": [
    "train_img_set = []\n",
    "train_label_set = []\n",
    "for row in mat_file['img_index_train'] :\n",
    "    train_img_set.append(row[0][0]+'.jpg')\n",
    "    train_label_set.append(row[0][0]+'.txt')"
   ]
  }
 ],
 "metadata": {
  "kernelspec": {
   "display_name": "Python 3",
   "language": "python",
   "name": "python3"
  },
  "language_info": {
   "codemirror_mode": {
    "name": "ipython",
    "version": 3
   },
   "file_extension": ".py",
   "mimetype": "text/x-python",
   "name": "python",
   "nbconvert_exporter": "python",
   "pygments_lexer": "ipython3",
   "version": "3.8.5"
  }
 },
 "nbformat": 4,
 "nbformat_minor": 4
}
